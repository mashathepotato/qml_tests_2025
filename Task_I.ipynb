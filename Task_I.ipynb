{
 "cells": [
  {
   "cell_type": "markdown",
   "metadata": {},
   "source": [
    "# Task I: Quantum Computing Part \n",
    "1) implement a simple quantum operation with Cirq or Pennylane\n",
    "\n",
    "a) With 5 qubits\n",
    " \n",
    "b) Apply Hadamard operation on every qubit \n",
    "\n",
    "c) Apply CNOT operation on (0, 1), (1,2), (2,3), (3,4) \n",
    "\n",
    "d) SWAP (0, 4) \n",
    "\n",
    "e) Rotate X with pi/2 on any qubit \n",
    "\n",
    "f) Plot the circuit \n",
    "\n",
    "<br />\n",
    "\n",
    "2) Implement a second circuit with a framework of your choice:\n",
    "\n",
    "Apply a Hadmard gate to the first qubit\n",
    "\n",
    "rotate the second qubit by pi/3 around X\n",
    "\n",
    "Apply Hadamard gate to the third and fourth qubit\n",
    "\n",
    "Perform a swap test between the states of the first and second qubit |q1 q2> and the third and fourth qubit |q3 q4>\n"
   ]
  },
  {
   "cell_type": "code",
   "execution_count": 4,
   "metadata": {},
   "outputs": [],
   "source": [
    "import pennylane as qml\n",
    "import numpy as np"
   ]
  },
  {
   "cell_type": "code",
   "execution_count": 20,
   "metadata": {},
   "outputs": [
    {
     "name": "stdout",
     "output_type": "stream",
     "text": [
      "0: ──H─╭●──────────╭SWAP──RX(1.57)─┤ ╭Probs\n",
      "1: ──H─╰X─╭●───────│───────────────┤ ├Probs\n",
      "2: ──H────╰X─╭●────│───────────────┤ ├Probs\n",
      "3: ──H───────╰X─╭●─│───────────────┤ ├Probs\n",
      "4: ──H──────────╰X─╰SWAP───────────┤ ╰Probs\n"
     ]
    }
   ],
   "source": [
    "dev = qml.device('default.qubit', wires=5)\n",
    "\n",
    "@qml.qnode(dev)\n",
    "def task_a():\n",
    "    for q in range(qbits):\n",
    "        qml.Hadamard(q)\n",
    "    qml.CNOT(wires=[0, 1])\n",
    "    qml.CNOT([1, 2])\n",
    "    qml.CNOT([2, 3])\n",
    "    qml.CNOT([3, 4])\n",
    "    qml.SWAP(wires=[0, 4])\n",
    "    qml.RX(np.pi/2, wires=0)\n",
    "    return qml.probs(wires=range(5))\n",
    "\n",
    "drawer_a = qml.draw(task_a)\n",
    "print(drawer_a())"
   ]
  },
  {
   "cell_type": "code",
   "execution_count": 21,
   "metadata": {},
   "outputs": [
    {
     "name": "stdout",
     "output_type": "stream",
     "text": [
      "0: ──H────────╭SWAP─┤ ╭Probs\n",
      "1: ──RX(1.05)─╰SWAP─┤ ├Probs\n",
      "2: ──H────────╭SWAP─┤ ├Probs\n",
      "3: ───────────╰SWAP─┤ ├Probs\n",
      "4: ─────────────────┤ ╰Probs\n"
     ]
    }
   ],
   "source": [
    "@qml.qnode(dev)\n",
    "def task_b():\n",
    "    qml.Hadamard(wires=0)\n",
    "    qml.RX(np.pi/3, 1)\n",
    "    qml.Hadamard(wires=2)\n",
    "    qml.SWAP(wires=[0, 1])\n",
    "    qml.SWAP(wires=[2, 3])\n",
    "    return qml.probs(wires=range(5))\n",
    "\n",
    "dev = qml.device('default.qubit', wires=5)\n",
    "\n",
    "\n",
    "drawer_b = qml.draw(task_b)\n",
    "print(drawer_b())"
   ]
  }
 ],
 "metadata": {
  "kernelspec": {
   "display_name": ".venv",
   "language": "python",
   "name": "python3"
  },
  "language_info": {
   "codemirror_mode": {
    "name": "ipython",
    "version": 3
   },
   "file_extension": ".py",
   "mimetype": "text/x-python",
   "name": "python",
   "nbconvert_exporter": "python",
   "pygments_lexer": "ipython3",
   "version": "3.11.1"
  }
 },
 "nbformat": 4,
 "nbformat_minor": 2
}
