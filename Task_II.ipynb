{
 "cells": [
  {
   "cell_type": "markdown",
   "metadata": {},
   "source": [
    "# Task II. Graph Neural Network\n",
    "\n",
    "Since this is the exact same task as last year, please refer to https://github.com/mashathepotato/qml_tests/blob/main/Task%20IIa.ipynb and https://github.com/mashathepotato/qml_tests/blob/main/Task%20IIb.ipynb for my solultions. I have not done much with GNNs since then, so I would likely do something very similar this year."
   ]
  }
 ],
 "metadata": {
  "language_info": {
   "name": "python"
  }
 },
 "nbformat": 4,
 "nbformat_minor": 2
}
