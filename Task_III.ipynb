{
 "cells": [
  {
   "cell_type": "markdown",
   "metadata": {},
   "source": [
    "# Task III. Open Task\n",
    "\n",
    "In this question last year, I discussed the Quantum Approximate Optimization Algorithm (QAOA). This year, I want to comment on quantum computing and quantum machine learning as a whole and the methods that I think are promising. \n",
    "\n",
    "Quantum machine learning is like building a track for a train that doesn't exist yet. We have a strong believe that quantum computers will be viable to solve some bigger problems, so we are preparing the methods to solve those problems now. From what I've seen in literature, quantum machine learning works largely focus on translating some existing classical architectures into quantum architectures. The results are usually simulated using frameworks such as Pennylane. This is a good starting point and the steps are being taken in the right direction, but there is the possibility that quantum networks would benefit from completely new structures, exploiting the physical properties of qubits directly rather than trying to fit the classical world into quantum. From personal experience, I found that comparing the quantum model to the classical became more difficult as I drifted from the hybrid variant and relied more on purely quantum layers. Though some form of comparison is necessary, it is difficult to determine what exactly we should be comparing to \"prove\" we have achieved better results. This is part of the reason why I want to focus more on the mathematical foundations behind these black box models. Some of the explainability (though not necessarily interpretability) of how the model behaves could come from these theoretical foundations backed by experimental evidence. I believe that this approach would not only result in a stronger work, but also in a more long-term achievement by providing grounds for future research to branch off of. \n",
    "\n",
    "\n",
    "On a separate note, I also see potential for large-scale neural networks and NISQ (and beyond) to be combined. Similar to how the leap in GPUs' computational ability coincided with the first practical wave of deep learning, quantum computers could speed up the training and discovery of new generative models. "
   ]
  }
 ],
 "metadata": {
  "language_info": {
   "name": "python"
  }
 },
 "nbformat": 4,
 "nbformat_minor": 2
}
