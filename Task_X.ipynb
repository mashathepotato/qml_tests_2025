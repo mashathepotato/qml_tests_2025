{
 "cells": [
  {
   "cell_type": "markdown",
   "metadata": {},
   "source": [
    "# Task X. Diffusion\n",
    "I have implemented a diffusion network model last year (it was not on the task list). Here is the link to it: https://github.com/mashathepotato/qml_tests/blob/main/diffusion_model.ipynb"
   ]
  }
 ],
 "metadata": {
  "language_info": {
   "name": "python"
  }
 },
 "nbformat": 4,
 "nbformat_minor": 2
}
